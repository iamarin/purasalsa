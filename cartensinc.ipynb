{
 "cells": [
  {
   "cell_type": "markdown",
   "metadata": {},
   "source": [
    "# Cartensinc\n",
    "\n",
    "\n",
    "@elvagodeldato"
   ]
  },
  {
   "cell_type": "markdown",
   "metadata": {},
   "source": [
    "El siguiente es un tutorial para entrarle a la *sopa* y encontrar la info de los indicadores de Banxico, lo anterior surge porque requiero tenerlas a la mano constantemente. Otras tareas se mostrarán a lo largo del documento.\n",
    "\n",
    "Para realizar el scrapeo utilizaré BeautifulSoup, que según varios colegas, que destaca por su eficiencia, además parece ser sencillo. No omito mencionar que encontrar las etiquetas es un camino tortuoso, así que...ánimo."
   ]
  },
  {
   "cell_type": "code",
   "execution_count": 1,
   "metadata": {},
   "outputs": [],
   "source": [
    "## Los acentos se omiten intencionalmente\n",
    "\n",
    "# Librerias\n",
    "from bs4 import BeautifulSoup\n",
    "import requests\n",
    "import pandas as pd\n",
    "\n",
    "# PATH\n",
    "url = 'https://www.banxico.org.mx/'\n",
    "page = requests.get(url)\n",
    "\n",
    "# Asi de simple es entrarle a la 'sopa'\n",
    "soup = BeautifulSoup(page.content, 'html.parser')"
   ]
  },
  {
   "cell_type": "code",
   "execution_count": 3,
   "metadata": {},
   "outputs": [
    {
     "data": {
      "text/plain": [
       "<head>\n",
       "<meta charset=\"utf-8\"/><!-- modificado accesibilidad remediaciÃ³n, se descomenta -->\n",
       "<meta content=\"IE=edge\" http-equiv=\"X-UA-Compatible\"/>\n",
       "<meta content=\"width=device-width, initial-scale=1\" name=\"viewport\"/>\n",
       "<meta content=\"PÃ¡gina principal del sitio de Banco de MÃ©xico\" name=\"description\"/> <!-- modificado accesibilidad remediaciÃ³n, se descomenta -->\n",
       "<meta content=\"Banco de MÃ©xico\" name=\"keywords\"/>\n",
       "<meta content=\"Banco de MÃ©xico\" name=\"author\"/>\n",
       "<title>Banxico, banco central, Banco de México</title>\n",
       "<!-- Recursos para new look v2.2  -->\n",
       "<link href=\"/recursos/externos/bootstrap/bootstrap.min.css\" rel=\"stylesheet\" type=\"text/css\"/>\n",
       "<link href=\"/recursos/css/bm/banxico.css\" rel=\"stylesheet\" type=\"text/css\"/>\n",
       "<link href=\"/recursos/externos/carousel/owl.carousel.min.css\" rel=\"stylesheet\" type=\"text/css\"/>\n",
       "<link href=\"/recursos/externos/carousel/owl.theme.default.min.css\" rel=\"stylesheet\" type=\"text/css\"/>\n",
       "<link href=\"/recursos/externos/v5/all.css\" rel=\"stylesheet\" type=\"text/css\"/>\n",
       "<script src=\"/recursos/externos/jquery/v3/jquery-3.3.1.min.js\"></script><!-- modificado accesibilidad remediaciÃ³n, se eliminan type y language -->\n",
       "<script src=\"/recursos/externos/bootstrap/bootstrap.min.js\"></script><!-- modificado accesibilidad remediaciÃ³n, se eliminan type y language -->\n",
       "<script src=\"/recursos/externos/carousel/owl.carousel.js\"></script><!-- modificado accesibilidad remediaciÃ³n, se eliminan type y language -->\n",
       "<!-- INICIA Recursos que se mantienen de look v2.0  -->\n",
       "<script src=\"/recursos/js/bmLoadTemplate.js\"></script>\n",
       "<script src=\"/recursos/js/bmLoadNPortlets.js\"></script>\n",
       "<!-- TERMINA Recursos que se mantienen de look v2.0  -->\n",
       "<script src=\"/recursos/js/bm/bmmenu.js\"></script><!-- modificado accesibilidad remediaciÃ³n, se eliminan type y language -->\n",
       "<script>\n",
       "(function(i,s,o,g,r,a,m){i['GoogleAnalyticsObject']=r;i[r]=i[r]||function(){\n",
       "(i[r].q=i[r].q||[]).push(arguments)},i[r].l=1*new Date();a=s.createElement(o),\n",
       "m=s.getElementsByTagName(o)[0];a.async=1;a.src=g;m.parentNode.insertBefore(a,m)\n",
       "})(window,document,'script','/recursos/js/analytics.js','ga');\n",
       "\n",
       "ga('create', 'UA-16112666-1', 'auto');\n",
       "ga('send', 'pageview');\n",
       "</script>\n",
       "<meta content=\"Página web del Banco de México\" name=\"description\"/><script src=\"/recursos/externos/carousel/init.owl.carousel.js\"></script><script src=\"/recursos/js/bmIndicadores.js\"></script><script src=\"/recursos/externos/ustream/ustream-embedapi.js\"></script><script src=\"/recursos/js/bm/logica/bmpolmon.js\"></script><script src=\"/recursos/js/bm/logica/bmpolcam.js\"></script><script src=\"/recursos/js/bm/bmstreamings.js\"></script><script src=\"/recursos/js/bm/logica/bmminuta.js\"></script><link href=\"/recursos/css/bm/bmstreamings.css\" rel=\"stylesheet\" type=\"text/css\"/><script src=\"/recursos/js/bmPublicRequest.js\"></script></head>"
      ]
     },
     "execution_count": 3,
     "metadata": {},
     "output_type": "execute_result"
    }
   ],
   "source": [
    "soup.head # por ejemplo el head"
   ]
  },
  {
   "cell_type": "markdown",
   "metadata": {},
   "source": [
    "Busco los urls, con la esperanza de que este sencilla la tarea :)"
   ]
  },
  {
   "cell_type": "code",
   "execution_count": 4,
   "metadata": {},
   "outputs": [
    {
     "name": "stdout",
     "output_type": "stream",
     "text": [
      "/banners/{CCF7D6F9-2A3F-68DC-2280-A5EA1D0A4D71}.pdf\n",
      "https://www.banxico.org.mx/SieInternet/\n",
      "https://www.banxico.org.mx/SieInternet/consultarDirectorioInternetAction.do?sector=18&accion=consultarCuadro&idCuadro=CF101&locale=es\n",
      "https://www.banxico.org.mx/SieInternet/consultarDirectorioInternetAction.do?sector=18&accion=consultarCuadro&idCuadro=CF101&locale=es\n",
      "https://www.banxico.org.mx/SieInternet/consultarDirectorioInternetAction.do?sector=18&accion=consultarCuadro&idCuadro=CF101&locale=es\n",
      "https://www.banxico.org.mx/SieInternet/consultarDirectorioInternetAction.do?sector=22&accion=consultarCuadro&idCuadro=CF107&locale=es\n",
      "https://www.banxico.org.mx/SieInternet/consultarDirectorioInternetAction.do?sector=6&accion=consultarCuadro&idCuadro=CF102&locale=es\n",
      "https://www.banxico.org.mx/SieInternet/consultarDirectorioInternetAction.do?sector=4&accion=consultarCuadro&idCuadro=CF106&locale=es\n",
      "https://www.inegi.org.mx/app/indicesdeprecios/Estructura.aspx?idEstructura=112001300030&T=%C3%8Dndices%20de%20Precios%20al%20Consumidor&ST=Inflaci%C3%B3n%20Mensual\n",
      "https://www.inegi.org.mx/app/indicesdeprecios/Estructura.aspx?idEstructura=112001300030&T=%C3%8Dndices%20de%20Precios%20al%20Consumidor&ST=Inflaci%C3%B3n%20Mensual\n",
      "https://www.banxico.org.mx/SieInternet/consultarDirectorioInternetAction.do?sector=8&accion=consultarCuadro&idCuadro=CP150&locale=es\n",
      "https://www.banxico.org.mx/ConsultaRegulacionWeb/\n",
      "https://www.codi.org.mx\n",
      "/comisiones/informacion-comisiones-bancar.html\n",
      "/portales-de-usuarios/usuarios-billetes-monedas-ban.html\n",
      "/sistema-financiero/seguridad-informacion-banco.html\n"
     ]
    }
   ],
   "source": [
    "for i in soup.find_all('a'):\n",
    "    print(i.get('href'))\n",
    "       "
   ]
  },
  {
   "cell_type": "markdown",
   "metadata": {},
   "source": [
    "Realmente no lo fue, después de armar un buen desmadre logré dar con lo que buscaba. Aquí hice una trampita, pero las mentes más inquietas le entrarán a la mejora continua..."
   ]
  },
  {
   "cell_type": "code",
   "execution_count": 5,
   "metadata": {},
   "outputs": [],
   "source": [
    "indicadores = []\n",
    "for i in soup.find_all('p', class_='card-title'):\n",
    "    #for j in i.children:\n",
    "        indicadores.append(i.text)\n",
    "        \n",
    "urls = []\n",
    "for i in soup.find_all('p', class_='card-title'):\n",
    "    for j in indicadores:\n",
    "        if j in i.text:\n",
    "            #urls.append(i.a.get['href'])\n",
    "            urls.append(i.a.get('href'))\n",
    "\n",
    "if urls[0] == urls[1]:\n",
    "    urls = urls[1:len(urls)]"
   ]
  },
  {
   "cell_type": "code",
   "execution_count": 6,
   "metadata": {},
   "outputs": [
    {
     "data": {
      "text/plain": [
       "['https://www.banxico.org.mx/SieInternet/consultarDirectorioInternetAction.do?sector=18&accion=consultarCuadro&idCuadro=CF101&locale=es',\n",
       " 'https://www.banxico.org.mx/SieInternet/consultarDirectorioInternetAction.do?sector=18&accion=consultarCuadro&idCuadro=CF101&locale=es',\n",
       " 'https://www.banxico.org.mx/SieInternet/consultarDirectorioInternetAction.do?sector=22&accion=consultarCuadro&idCuadro=CF107&locale=es',\n",
       " 'https://www.banxico.org.mx/SieInternet/consultarDirectorioInternetAction.do?sector=6&accion=consultarCuadro&idCuadro=CF102&locale=es',\n",
       " 'https://www.banxico.org.mx/SieInternet/consultarDirectorioInternetAction.do?sector=4&accion=consultarCuadro&idCuadro=CF106&locale=es',\n",
       " 'https://www.inegi.org.mx/app/indicesdeprecios/Estructura.aspx?idEstructura=112001300030&T=%C3%8Dndices%20de%20Precios%20al%20Consumidor&ST=Inflaci%C3%B3n%20Mensual',\n",
       " 'https://www.inegi.org.mx/app/indicesdeprecios/Estructura.aspx?idEstructura=112001300030&T=%C3%8Dndices%20de%20Precios%20al%20Consumidor&ST=Inflaci%C3%B3n%20Mensual',\n",
       " 'https://www.inegi.org.mx/app/indicesdeprecios/Estructura.aspx?idEstructura=112001300030&T=%C3%8Dndices%20de%20Precios%20al%20Consumidor&ST=Inflaci%C3%B3n%20Mensual',\n",
       " 'https://www.banxico.org.mx/SieInternet/consultarDirectorioInternetAction.do?sector=8&accion=consultarCuadro&idCuadro=CP150&locale=es',\n",
       " 'https://www.banxico.org.mx/ConsultaRegulacionWeb/']"
      ]
     },
     "execution_count": 6,
     "metadata": {},
     "output_type": "execute_result"
    }
   ],
   "source": [
    "urls"
   ]
  },
  {
   "cell_type": "code",
   "execution_count": 7,
   "metadata": {},
   "outputs": [
    {
     "data": {
      "text/plain": [
       "['  Tasaobjetivo',\n",
       " ' TIIEFondeo',\n",
       " '  TIIE28',\n",
       " '  Cetes28',\n",
       " '  Tipo decambio FIX',\n",
       " '  Reservasintl. (mmd)',\n",
       " '  Inflación',\n",
       " '  Inflaciónsubyacente',\n",
       " '  UDIS',\n",
       " 'Consulta pública en curso - Regulación']"
      ]
     },
     "execution_count": 7,
     "metadata": {},
     "output_type": "execute_result"
    }
   ],
   "source": [
    "indicadores"
   ]
  },
  {
   "cell_type": "markdown",
   "metadata": {},
   "source": [
    "Y @elvagodeldato lo vuelve a hacer :)"
   ]
  },
  {
   "cell_type": "code",
   "execution_count": 8,
   "metadata": {},
   "outputs": [
    {
     "data": {
      "text/html": [
       "<div>\n",
       "<style scoped>\n",
       "    .dataframe tbody tr th:only-of-type {\n",
       "        vertical-align: middle;\n",
       "    }\n",
       "\n",
       "    .dataframe tbody tr th {\n",
       "        vertical-align: top;\n",
       "    }\n",
       "\n",
       "    .dataframe thead th {\n",
       "        text-align: right;\n",
       "    }\n",
       "</style>\n",
       "<table border=\"1\" class=\"dataframe\">\n",
       "  <thead>\n",
       "    <tr style=\"text-align: right;\">\n",
       "      <th></th>\n",
       "      <th>indicador</th>\n",
       "      <th>urls</th>\n",
       "    </tr>\n",
       "  </thead>\n",
       "  <tbody>\n",
       "    <tr>\n",
       "      <th>0</th>\n",
       "      <td>Tasaobjetivo</td>\n",
       "      <td>https://www.banxico.org.mx/SieInternet/consult...</td>\n",
       "    </tr>\n",
       "    <tr>\n",
       "      <th>1</th>\n",
       "      <td>TIIEFondeo</td>\n",
       "      <td>https://www.banxico.org.mx/SieInternet/consult...</td>\n",
       "    </tr>\n",
       "    <tr>\n",
       "      <th>2</th>\n",
       "      <td>TIIE28</td>\n",
       "      <td>https://www.banxico.org.mx/SieInternet/consult...</td>\n",
       "    </tr>\n",
       "    <tr>\n",
       "      <th>3</th>\n",
       "      <td>Cetes28</td>\n",
       "      <td>https://www.banxico.org.mx/SieInternet/consult...</td>\n",
       "    </tr>\n",
       "    <tr>\n",
       "      <th>4</th>\n",
       "      <td>Tipo decambio FIX</td>\n",
       "      <td>https://www.banxico.org.mx/SieInternet/consult...</td>\n",
       "    </tr>\n",
       "    <tr>\n",
       "      <th>5</th>\n",
       "      <td>Reservasintl. (mmd)</td>\n",
       "      <td>https://www.inegi.org.mx/app/indicesdeprecios/...</td>\n",
       "    </tr>\n",
       "    <tr>\n",
       "      <th>6</th>\n",
       "      <td>Inflación</td>\n",
       "      <td>https://www.inegi.org.mx/app/indicesdeprecios/...</td>\n",
       "    </tr>\n",
       "    <tr>\n",
       "      <th>7</th>\n",
       "      <td>Inflaciónsubyacente</td>\n",
       "      <td>https://www.inegi.org.mx/app/indicesdeprecios/...</td>\n",
       "    </tr>\n",
       "    <tr>\n",
       "      <th>8</th>\n",
       "      <td>UDIS</td>\n",
       "      <td>https://www.banxico.org.mx/SieInternet/consult...</td>\n",
       "    </tr>\n",
       "    <tr>\n",
       "      <th>9</th>\n",
       "      <td>Consulta pública en curso - Regulación</td>\n",
       "      <td>https://www.banxico.org.mx/ConsultaRegulacionWeb/</td>\n",
       "    </tr>\n",
       "  </tbody>\n",
       "</table>\n",
       "</div>"
      ],
      "text/plain": [
       "                                indicador  \\\n",
       "0                            Tasaobjetivo   \n",
       "1                              TIIEFondeo   \n",
       "2                                  TIIE28   \n",
       "3                                 Cetes28   \n",
       "4                       Tipo decambio FIX   \n",
       "5                     Reservasintl. (mmd)   \n",
       "6                               Inflación   \n",
       "7                     Inflaciónsubyacente   \n",
       "8                                    UDIS   \n",
       "9  Consulta pública en curso - Regulación   \n",
       "\n",
       "                                                urls  \n",
       "0  https://www.banxico.org.mx/SieInternet/consult...  \n",
       "1  https://www.banxico.org.mx/SieInternet/consult...  \n",
       "2  https://www.banxico.org.mx/SieInternet/consult...  \n",
       "3  https://www.banxico.org.mx/SieInternet/consult...  \n",
       "4  https://www.banxico.org.mx/SieInternet/consult...  \n",
       "5  https://www.inegi.org.mx/app/indicesdeprecios/...  \n",
       "6  https://www.inegi.org.mx/app/indicesdeprecios/...  \n",
       "7  https://www.inegi.org.mx/app/indicesdeprecios/...  \n",
       "8  https://www.banxico.org.mx/SieInternet/consult...  \n",
       "9  https://www.banxico.org.mx/ConsultaRegulacionWeb/  "
      ]
     },
     "execution_count": 8,
     "metadata": {},
     "output_type": "execute_result"
    }
   ],
   "source": [
    "pd.DataFrame({\n",
    "    'indicador': [i for i in indicadores],\n",
    "    'urls': [u for u in urls]\n",
    "})"
   ]
  }
 ],
 "metadata": {
  "kernelspec": {
   "display_name": "Python 3",
   "language": "python",
   "name": "python3"
  },
  "language_info": {
   "codemirror_mode": {
    "name": "ipython",
    "version": 3
   },
   "file_extension": ".py",
   "mimetype": "text/x-python",
   "name": "python",
   "nbconvert_exporter": "python",
   "pygments_lexer": "ipython3",
   "version": "3.7.3"
  }
 },
 "nbformat": 4,
 "nbformat_minor": 2
}
